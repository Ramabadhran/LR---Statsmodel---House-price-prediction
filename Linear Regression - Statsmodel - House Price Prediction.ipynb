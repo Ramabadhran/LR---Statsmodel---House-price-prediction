{
 "cells": [
  {
   "cell_type": "markdown",
   "metadata": {},
   "source": [
    "# Linear Regression - Stats Model \n",
    "## (House Price Prediction)\n",
    "### Linear Regression - finding Causality between two Variables, Dependent (Y) and Independent (X) variables\n",
    "### Causality - How the relationship between variables impacts the outcome"
   ]
  },
  {
   "cell_type": "code",
   "execution_count": 12,
   "metadata": {},
   "outputs": [
    {
     "name": "stdout",
     "output_type": "stream",
     "text": [
      "Requirement already satisfied: statsmodels in e:\\anaconda\\lib\\site-packages (0.10.1)\n",
      "Requirement already satisfied: numpy>=1.11 in e:\\anaconda\\lib\\site-packages (from statsmodels) (1.16.5)\n",
      "Requirement already satisfied: scipy>=0.18 in e:\\anaconda\\lib\\site-packages (from statsmodels) (1.3.1)\n",
      "Requirement already satisfied: pandas>=0.19 in e:\\anaconda\\lib\\site-packages (from statsmodels) (0.25.1)\n",
      "Requirement already satisfied: patsy>=0.4.0 in e:\\anaconda\\lib\\site-packages (from statsmodels) (0.5.1)\n",
      "Requirement already satisfied: pytz>=2017.2 in e:\\anaconda\\lib\\site-packages (from pandas>=0.19->statsmodels) (2019.3)\n",
      "Requirement already satisfied: python-dateutil>=2.6.1 in e:\\anaconda\\lib\\site-packages (from pandas>=0.19->statsmodels) (2.8.0)\n",
      "Requirement already satisfied: six in e:\\anaconda\\lib\\site-packages (from patsy>=0.4.0->statsmodels) (1.12.0)\n"
     ]
    }
   ],
   "source": [
    "!pip install statsmodels"
   ]
  },
  {
   "cell_type": "markdown",
   "metadata": {},
   "source": [
    " ### ====> Install pip model from internet \"https://pip.pypa.io/en/stable/installing/#\"\n",
    "#### click get-pip.py....once saved in local folder, click the link to run.......so all necessary packages are installed"
   ]
  },
  {
   "cell_type": "markdown",
   "metadata": {},
   "source": [
    "# Problem Statement : Predicting House price using Statsmodel\n",
    "### Data is taken from FRED (US Govt Site), Data repository\n",
    "### Link : https://fred.stlouisfed.org/\n",
    "\n",
    "# Data Location"
   ]
  },
  {
   "cell_type": "code",
   "execution_count": 17,
   "metadata": {},
   "outputs": [],
   "source": [
    "#fed_funds.csv\n",
    "# economics.csv\n",
    "# gdp.csv\n",
    "# ginzberg.csv\n",
    "# monthly-hpi.csv\n",
    "# seasons.csv\n",
    "# shillers.csv\n",
    "# unemployment-macro.csv\n",
    "# USA_Housing.csv"
   ]
  },
  {
   "cell_type": "markdown",
   "metadata": {},
   "source": [
    "## Important Libraries"
   ]
  },
  {
   "cell_type": "code",
   "execution_count": 27,
   "metadata": {},
   "outputs": [],
   "source": [
    "from IPython.display import HTML, display\n",
    "\n",
    "import statsmodels.api as sm # importing of statsmodel\n",
    "from statsmodels.formula.api import ols \n",
    "# OLS - Ordinary Lease Squared - is a type of linear least squares method for estimating the unknown parameters in a linear regression model.\n",
    "from statsmodels.sandbox.regression.predstd import wls_prediction_std\n",
    "\n",
    "import matplotlib.pyplot as plt # for visual representation \n",
    "import seaborn as sns\n",
    "%matplotlib inline\n",
    "\n",
    "import pandas as pd\n",
    "import numpy as np\n",
    "\n",
    "sns.set_style('darkgrid')"
   ]
  },
  {
   "cell_type": "code",
   "execution_count": 35,
   "metadata": {},
   "outputs": [],
   "source": [
    "house_price_index = pd.read_csv('monthly-hpi.csv')\n",
    "unemp = pd.read_csv('unemployment-macro.csv')\n",
    "federal_funds_rate = pd.read_csv('fed_funds.csv')\n",
    "shiller = pd.read_csv('shiller.csv')\n",
    "gross_domestic_product = pd.read_csv('gdp.csv')"
   ]
  },
  {
   "cell_type": "code",
   "execution_count": 36,
   "metadata": {},
   "outputs": [
    {
     "data": {
      "text/html": [
       "<div>\n",
       "<style scoped>\n",
       "    .dataframe tbody tr th:only-of-type {\n",
       "        vertical-align: middle;\n",
       "    }\n",
       "\n",
       "    .dataframe tbody tr th {\n",
       "        vertical-align: top;\n",
       "    }\n",
       "\n",
       "    .dataframe thead th {\n",
       "        text-align: right;\n",
       "    }\n",
       "</style>\n",
       "<table border=\"1\" class=\"dataframe\">\n",
       "  <thead>\n",
       "    <tr style=\"text-align: right;\">\n",
       "      <th></th>\n",
       "      <th>date</th>\n",
       "      <th>housing_price_index</th>\n",
       "    </tr>\n",
       "  </thead>\n",
       "  <tbody>\n",
       "    <tr>\n",
       "      <td>0</td>\n",
       "      <td>2010-11-01</td>\n",
       "      <td>186.07</td>\n",
       "    </tr>\n",
       "    <tr>\n",
       "      <td>1</td>\n",
       "      <td>2010-12-01</td>\n",
       "      <td>183.27</td>\n",
       "    </tr>\n",
       "    <tr>\n",
       "      <td>2</td>\n",
       "      <td>2011-01-01</td>\n",
       "      <td>181.35</td>\n",
       "    </tr>\n",
       "    <tr>\n",
       "      <td>3</td>\n",
       "      <td>2011-02-01</td>\n",
       "      <td>179.66</td>\n",
       "    </tr>\n",
       "    <tr>\n",
       "      <td>4</td>\n",
       "      <td>2011-03-01</td>\n",
       "      <td>178.84</td>\n",
       "    </tr>\n",
       "  </tbody>\n",
       "</table>\n",
       "</div>"
      ],
      "text/plain": [
       "         date  housing_price_index\n",
       "0  2010-11-01               186.07\n",
       "1  2010-12-01               183.27\n",
       "2  2011-01-01               181.35\n",
       "3  2011-02-01               179.66\n",
       "4  2011-03-01               178.84"
      ]
     },
     "execution_count": 36,
     "metadata": {},
     "output_type": "execute_result"
    }
   ],
   "source": [
    "house_price_index.head() # head function give top 5 line item "
   ]
  },
  {
   "cell_type": "code",
   "execution_count": 39,
   "metadata": {},
   "outputs": [
    {
     "data": {
      "text/html": [
       "<div>\n",
       "<style scoped>\n",
       "    .dataframe tbody tr th:only-of-type {\n",
       "        vertical-align: middle;\n",
       "    }\n",
       "\n",
       "    .dataframe tbody tr th {\n",
       "        vertical-align: top;\n",
       "    }\n",
       "\n",
       "    .dataframe thead th {\n",
       "        text-align: right;\n",
       "    }\n",
       "</style>\n",
       "<table border=\"1\" class=\"dataframe\">\n",
       "  <thead>\n",
       "    <tr style=\"text-align: right;\">\n",
       "      <th></th>\n",
       "      <th>date</th>\n",
       "      <th>total_unemployed</th>\n",
       "      <th>more_than_15_weeks</th>\n",
       "      <th>not_in_labor_searched_for_work</th>\n",
       "      <th>multi_jobs</th>\n",
       "      <th>leavers</th>\n",
       "      <th>losers</th>\n",
       "    </tr>\n",
       "  </thead>\n",
       "  <tbody>\n",
       "    <tr>\n",
       "      <td>0</td>\n",
       "      <td>2010-11-01</td>\n",
       "      <td>16.9</td>\n",
       "      <td>8696</td>\n",
       "      <td>2531</td>\n",
       "      <td>6708</td>\n",
       "      <td>5.7</td>\n",
       "      <td>63.0</td>\n",
       "    </tr>\n",
       "    <tr>\n",
       "      <td>1</td>\n",
       "      <td>2010-12-01</td>\n",
       "      <td>16.6</td>\n",
       "      <td>8549</td>\n",
       "      <td>2609</td>\n",
       "      <td>6899</td>\n",
       "      <td>6.4</td>\n",
       "      <td>61.2</td>\n",
       "    </tr>\n",
       "    <tr>\n",
       "      <td>2</td>\n",
       "      <td>2011-01-01</td>\n",
       "      <td>16.2</td>\n",
       "      <td>8393</td>\n",
       "      <td>2800</td>\n",
       "      <td>6816</td>\n",
       "      <td>6.5</td>\n",
       "      <td>60.1</td>\n",
       "    </tr>\n",
       "    <tr>\n",
       "      <td>3</td>\n",
       "      <td>2011-02-01</td>\n",
       "      <td>16.0</td>\n",
       "      <td>8175</td>\n",
       "      <td>2730</td>\n",
       "      <td>6741</td>\n",
       "      <td>6.4</td>\n",
       "      <td>60.2</td>\n",
       "    </tr>\n",
       "    <tr>\n",
       "      <td>4</td>\n",
       "      <td>2011-03-01</td>\n",
       "      <td>15.9</td>\n",
       "      <td>8166</td>\n",
       "      <td>2434</td>\n",
       "      <td>6735</td>\n",
       "      <td>6.4</td>\n",
       "      <td>60.3</td>\n",
       "    </tr>\n",
       "  </tbody>\n",
       "</table>\n",
       "</div>"
      ],
      "text/plain": [
       "         date  total_unemployed  more_than_15_weeks  not_in_labor_searched_for_work  multi_jobs  leavers  losers\n",
       "0  2010-11-01              16.9                8696                            2531        6708      5.7    63.0\n",
       "1  2010-12-01              16.6                8549                            2609        6899      6.4    61.2\n",
       "2  2011-01-01              16.2                8393                            2800        6816      6.5    60.1\n",
       "3  2011-02-01              16.0                8175                            2730        6741      6.4    60.2\n",
       "4  2011-03-01              15.9                8166                            2434        6735      6.4    60.3"
      ]
     },
     "execution_count": 39,
     "metadata": {},
     "output_type": "execute_result"
    }
   ],
   "source": [
    "unemp.head() # understanding of colum and its relevance in project is extremely important...also need to understand\n",
    "# if its mentioned in %, actual numbers, or in Currency etc"
   ]
  },
  {
   "cell_type": "code",
   "execution_count": 41,
   "metadata": {},
   "outputs": [
    {
     "data": {
      "text/html": [
       "<div>\n",
       "<style scoped>\n",
       "    .dataframe tbody tr th:only-of-type {\n",
       "        vertical-align: middle;\n",
       "    }\n",
       "\n",
       "    .dataframe tbody tr th {\n",
       "        vertical-align: top;\n",
       "    }\n",
       "\n",
       "    .dataframe thead th {\n",
       "        text-align: right;\n",
       "    }\n",
       "</style>\n",
       "<table border=\"1\" class=\"dataframe\">\n",
       "  <thead>\n",
       "    <tr style=\"text-align: right;\">\n",
       "      <th></th>\n",
       "      <th>date</th>\n",
       "      <th>total_expenditures</th>\n",
       "      <th>labor_force_pr</th>\n",
       "      <th>producer_price_index</th>\n",
       "      <th>gross_domestic_product</th>\n",
       "    </tr>\n",
       "  </thead>\n",
       "  <tbody>\n",
       "    <tr>\n",
       "      <td>0</td>\n",
       "      <td>2011-01-01</td>\n",
       "      <td>5766.7</td>\n",
       "      <td>64.2</td>\n",
       "      <td>192.7</td>\n",
       "      <td>14881.3</td>\n",
       "    </tr>\n",
       "    <tr>\n",
       "      <td>1</td>\n",
       "      <td>2011-04-01</td>\n",
       "      <td>5870.8</td>\n",
       "      <td>64.2</td>\n",
       "      <td>203.1</td>\n",
       "      <td>14989.6</td>\n",
       "    </tr>\n",
       "    <tr>\n",
       "      <td>2</td>\n",
       "      <td>2011-07-01</td>\n",
       "      <td>5802.6</td>\n",
       "      <td>64.0</td>\n",
       "      <td>204.6</td>\n",
       "      <td>15021.1</td>\n",
       "    </tr>\n",
       "    <tr>\n",
       "      <td>3</td>\n",
       "      <td>2011-10-01</td>\n",
       "      <td>5812.9</td>\n",
       "      <td>64.1</td>\n",
       "      <td>201.1</td>\n",
       "      <td>15190.3</td>\n",
       "    </tr>\n",
       "    <tr>\n",
       "      <td>4</td>\n",
       "      <td>2012-01-01</td>\n",
       "      <td>5765.7</td>\n",
       "      <td>63.7</td>\n",
       "      <td>200.7</td>\n",
       "      <td>15291.0</td>\n",
       "    </tr>\n",
       "  </tbody>\n",
       "</table>\n",
       "</div>"
      ],
      "text/plain": [
       "         date  total_expenditures  labor_force_pr  producer_price_index  gross_domestic_product\n",
       "0  2011-01-01              5766.7            64.2                 192.7                 14881.3\n",
       "1  2011-04-01              5870.8            64.2                 203.1                 14989.6\n",
       "2  2011-07-01              5802.6            64.0                 204.6                 15021.1\n",
       "3  2011-10-01              5812.9            64.1                 201.1                 15190.3\n",
       "4  2012-01-01              5765.7            63.7                 200.7                 15291.0"
      ]
     },
     "execution_count": 41,
     "metadata": {},
     "output_type": "execute_result"
    }
   ],
   "source": [
    "gross_domestic_product.head() # every data need to understand measuring units "
   ]
  },
  {
   "cell_type": "code",
   "execution_count": 42,
   "metadata": {},
   "outputs": [
    {
     "data": {
      "text/html": [
       "<div>\n",
       "<style scoped>\n",
       "    .dataframe tbody tr th:only-of-type {\n",
       "        vertical-align: middle;\n",
       "    }\n",
       "\n",
       "    .dataframe tbody tr th {\n",
       "        vertical-align: top;\n",
       "    }\n",
       "\n",
       "    .dataframe thead th {\n",
       "        text-align: right;\n",
       "    }\n",
       "</style>\n",
       "<table border=\"1\" class=\"dataframe\">\n",
       "  <thead>\n",
       "    <tr style=\"text-align: right;\">\n",
       "      <th></th>\n",
       "      <th>date</th>\n",
       "      <th>sp500</th>\n",
       "      <th>consumer_price_index</th>\n",
       "      <th>long_interest_rate</th>\n",
       "    </tr>\n",
       "  </thead>\n",
       "  <tbody>\n",
       "    <tr>\n",
       "      <td>0</td>\n",
       "      <td>2010-11-01</td>\n",
       "      <td>1198.89</td>\n",
       "      <td>218.80</td>\n",
       "      <td>2.76</td>\n",
       "    </tr>\n",
       "    <tr>\n",
       "      <td>1</td>\n",
       "      <td>2010-12-01</td>\n",
       "      <td>1241.53</td>\n",
       "      <td>219.18</td>\n",
       "      <td>3.29</td>\n",
       "    </tr>\n",
       "    <tr>\n",
       "      <td>2</td>\n",
       "      <td>2011-01-01</td>\n",
       "      <td>1282.62</td>\n",
       "      <td>220.22</td>\n",
       "      <td>3.39</td>\n",
       "    </tr>\n",
       "    <tr>\n",
       "      <td>3</td>\n",
       "      <td>2011-02-01</td>\n",
       "      <td>1321.12</td>\n",
       "      <td>221.31</td>\n",
       "      <td>3.58</td>\n",
       "    </tr>\n",
       "    <tr>\n",
       "      <td>4</td>\n",
       "      <td>2011-03-01</td>\n",
       "      <td>1304.49</td>\n",
       "      <td>223.47</td>\n",
       "      <td>3.41</td>\n",
       "    </tr>\n",
       "  </tbody>\n",
       "</table>\n",
       "</div>"
      ],
      "text/plain": [
       "         date    sp500  consumer_price_index  long_interest_rate\n",
       "0  2010-11-01  1198.89                218.80                2.76\n",
       "1  2010-12-01  1241.53                219.18                3.29\n",
       "2  2011-01-01  1282.62                220.22                3.39\n",
       "3  2011-02-01  1321.12                221.31                3.58\n",
       "4  2011-03-01  1304.49                223.47                3.41"
      ]
     },
     "execution_count": 42,
     "metadata": {},
     "output_type": "execute_result"
    }
   ],
   "source": [
    "shiller.head()"
   ]
  },
  {
   "cell_type": "markdown",
   "metadata": {},
   "source": [
    "### Date is the common factor on all the worksheet, however the date variance is different for different timeperiod...now we need to merge all different worksheet to one worksheet\n",
    "\n",
    "### as we have multiple independent variables impacting HPI (Housing Price Index) Output, hence its a multiple regression problem \n",
    "\n",
    "# Merging of Data on Date"
   ]
  },
  {
   "cell_type": "code",
   "execution_count": 58,
   "metadata": {},
   "outputs": [],
   "source": [
    "df = (shiller.merge(house_price_index,on='date').merge(unemp,on='date').merge(federal_funds_rate,on='date').merge(gross_domestic_product))\n",
    "# merge function is used for merging data on 'date' parameter at house_price_index file as its common across all other data files"
   ]
  },
  {
   "cell_type": "code",
   "execution_count": 61,
   "metadata": {},
   "outputs": [
    {
     "data": {
      "text/html": [
       "<div>\n",
       "<style scoped>\n",
       "    .dataframe tbody tr th:only-of-type {\n",
       "        vertical-align: middle;\n",
       "    }\n",
       "\n",
       "    .dataframe tbody tr th {\n",
       "        vertical-align: top;\n",
       "    }\n",
       "\n",
       "    .dataframe thead th {\n",
       "        text-align: right;\n",
       "    }\n",
       "</style>\n",
       "<table border=\"1\" class=\"dataframe\">\n",
       "  <thead>\n",
       "    <tr style=\"text-align: right;\">\n",
       "      <th></th>\n",
       "      <th>date</th>\n",
       "      <th>sp500</th>\n",
       "      <th>consumer_price_index</th>\n",
       "      <th>long_interest_rate</th>\n",
       "      <th>housing_price_index</th>\n",
       "      <th>total_unemployed</th>\n",
       "      <th>more_than_15_weeks</th>\n",
       "      <th>not_in_labor_searched_for_work</th>\n",
       "      <th>multi_jobs</th>\n",
       "      <th>leavers</th>\n",
       "      <th>losers</th>\n",
       "      <th>federal_funds_rate</th>\n",
       "      <th>total_expenditures</th>\n",
       "      <th>labor_force_pr</th>\n",
       "      <th>producer_price_index</th>\n",
       "      <th>gross_domestic_product</th>\n",
       "    </tr>\n",
       "  </thead>\n",
       "  <tbody>\n",
       "    <tr>\n",
       "      <td>0</td>\n",
       "      <td>2011-01-01</td>\n",
       "      <td>1282.62</td>\n",
       "      <td>220.22</td>\n",
       "      <td>3.39</td>\n",
       "      <td>181.35</td>\n",
       "      <td>16.2</td>\n",
       "      <td>8393</td>\n",
       "      <td>2800</td>\n",
       "      <td>6816</td>\n",
       "      <td>6.5</td>\n",
       "      <td>60.1</td>\n",
       "      <td>0.17</td>\n",
       "      <td>5766.7</td>\n",
       "      <td>64.2</td>\n",
       "      <td>192.7</td>\n",
       "      <td>14881.3</td>\n",
       "    </tr>\n",
       "    <tr>\n",
       "      <td>1</td>\n",
       "      <td>2011-04-01</td>\n",
       "      <td>1331.51</td>\n",
       "      <td>224.91</td>\n",
       "      <td>3.46</td>\n",
       "      <td>180.80</td>\n",
       "      <td>16.1</td>\n",
       "      <td>8016</td>\n",
       "      <td>2466</td>\n",
       "      <td>6823</td>\n",
       "      <td>6.8</td>\n",
       "      <td>59.4</td>\n",
       "      <td>0.10</td>\n",
       "      <td>5870.8</td>\n",
       "      <td>64.2</td>\n",
       "      <td>203.1</td>\n",
       "      <td>14989.6</td>\n",
       "    </tr>\n",
       "    <tr>\n",
       "      <td>2</td>\n",
       "      <td>2011-07-01</td>\n",
       "      <td>1325.19</td>\n",
       "      <td>225.92</td>\n",
       "      <td>3.00</td>\n",
       "      <td>184.25</td>\n",
       "      <td>15.9</td>\n",
       "      <td>8177</td>\n",
       "      <td>2785</td>\n",
       "      <td>6850</td>\n",
       "      <td>6.8</td>\n",
       "      <td>59.2</td>\n",
       "      <td>0.07</td>\n",
       "      <td>5802.6</td>\n",
       "      <td>64.0</td>\n",
       "      <td>204.6</td>\n",
       "      <td>15021.1</td>\n",
       "    </tr>\n",
       "    <tr>\n",
       "      <td>3</td>\n",
       "      <td>2011-10-01</td>\n",
       "      <td>1207.22</td>\n",
       "      <td>226.42</td>\n",
       "      <td>2.15</td>\n",
       "      <td>181.51</td>\n",
       "      <td>15.8</td>\n",
       "      <td>7802</td>\n",
       "      <td>2555</td>\n",
       "      <td>6917</td>\n",
       "      <td>8.0</td>\n",
       "      <td>57.9</td>\n",
       "      <td>0.07</td>\n",
       "      <td>5812.9</td>\n",
       "      <td>64.1</td>\n",
       "      <td>201.1</td>\n",
       "      <td>15190.3</td>\n",
       "    </tr>\n",
       "    <tr>\n",
       "      <td>4</td>\n",
       "      <td>2012-01-01</td>\n",
       "      <td>1300.58</td>\n",
       "      <td>226.66</td>\n",
       "      <td>1.97</td>\n",
       "      <td>179.13</td>\n",
       "      <td>15.2</td>\n",
       "      <td>7433</td>\n",
       "      <td>2809</td>\n",
       "      <td>7022</td>\n",
       "      <td>7.4</td>\n",
       "      <td>57.1</td>\n",
       "      <td>0.08</td>\n",
       "      <td>5765.7</td>\n",
       "      <td>63.7</td>\n",
       "      <td>200.7</td>\n",
       "      <td>15291.0</td>\n",
       "    </tr>\n",
       "  </tbody>\n",
       "</table>\n",
       "</div>"
      ],
      "text/plain": [
       "         date    sp500  consumer_price_index  ...  labor_force_pr  producer_price_index  gross_domestic_product\n",
       "0  2011-01-01  1282.62                220.22  ...            64.2                 192.7                 14881.3\n",
       "1  2011-04-01  1331.51                224.91  ...            64.2                 203.1                 14989.6\n",
       "2  2011-07-01  1325.19                225.92  ...            64.0                 204.6                 15021.1\n",
       "3  2011-10-01  1207.22                226.42  ...            64.1                 201.1                 15190.3\n",
       "4  2012-01-01  1300.58                226.66  ...            63.7                 200.7                 15291.0\n",
       "\n",
       "[5 rows x 16 columns]"
      ]
     },
     "execution_count": 61,
     "metadata": {},
     "output_type": "execute_result"
    }
   ],
   "source": [
    "df.head()"
   ]
  },
  {
   "cell_type": "code",
   "execution_count": 62,
   "metadata": {},
   "outputs": [
    {
     "data": {
      "text/html": [
       "<div>\n",
       "<style scoped>\n",
       "    .dataframe tbody tr th:only-of-type {\n",
       "        vertical-align: middle;\n",
       "    }\n",
       "\n",
       "    .dataframe tbody tr th {\n",
       "        vertical-align: top;\n",
       "    }\n",
       "\n",
       "    .dataframe thead th {\n",
       "        text-align: right;\n",
       "    }\n",
       "</style>\n",
       "<table border=\"1\" class=\"dataframe\">\n",
       "  <thead>\n",
       "    <tr style=\"text-align: right;\">\n",
       "      <th></th>\n",
       "      <th>date</th>\n",
       "      <th>sp500</th>\n",
       "      <th>consumer_price_index</th>\n",
       "      <th>long_interest_rate</th>\n",
       "      <th>housing_price_index</th>\n",
       "      <th>total_unemployed</th>\n",
       "      <th>more_than_15_weeks</th>\n",
       "      <th>not_in_labor_searched_for_work</th>\n",
       "      <th>multi_jobs</th>\n",
       "      <th>leavers</th>\n",
       "      <th>losers</th>\n",
       "      <th>federal_funds_rate</th>\n",
       "      <th>total_expenditures</th>\n",
       "      <th>labor_force_pr</th>\n",
       "      <th>producer_price_index</th>\n",
       "      <th>gross_domestic_product</th>\n",
       "    </tr>\n",
       "  </thead>\n",
       "  <tbody>\n",
       "    <tr>\n",
       "      <td>18</td>\n",
       "      <td>2015-07-01</td>\n",
       "      <td>2094.14</td>\n",
       "      <td>238.65</td>\n",
       "      <td>2.32</td>\n",
       "      <td>227.98</td>\n",
       "      <td>10.3</td>\n",
       "      <td>3359</td>\n",
       "      <td>1927</td>\n",
       "      <td>7239</td>\n",
       "      <td>10.4</td>\n",
       "      <td>49.6</td>\n",
       "      <td>0.13</td>\n",
       "      <td>6157.8</td>\n",
       "      <td>62.6</td>\n",
       "      <td>193.9</td>\n",
       "      <td>16454.9</td>\n",
       "    </tr>\n",
       "    <tr>\n",
       "      <td>19</td>\n",
       "      <td>2015-10-01</td>\n",
       "      <td>2024.81</td>\n",
       "      <td>237.84</td>\n",
       "      <td>2.07</td>\n",
       "      <td>227.71</td>\n",
       "      <td>9.8</td>\n",
       "      <td>3344</td>\n",
       "      <td>1916</td>\n",
       "      <td>7377</td>\n",
       "      <td>9.7</td>\n",
       "      <td>49.7</td>\n",
       "      <td>0.12</td>\n",
       "      <td>6146.6</td>\n",
       "      <td>62.5</td>\n",
       "      <td>187.5</td>\n",
       "      <td>16490.7</td>\n",
       "    </tr>\n",
       "    <tr>\n",
       "      <td>20</td>\n",
       "      <td>2016-01-01</td>\n",
       "      <td>1918.60</td>\n",
       "      <td>236.92</td>\n",
       "      <td>2.09</td>\n",
       "      <td>227.45</td>\n",
       "      <td>9.9</td>\n",
       "      <td>3234</td>\n",
       "      <td>2089</td>\n",
       "      <td>7470</td>\n",
       "      <td>9.9</td>\n",
       "      <td>47.6</td>\n",
       "      <td>0.34</td>\n",
       "      <td>6219.7</td>\n",
       "      <td>62.7</td>\n",
       "      <td>182.6</td>\n",
       "      <td>16525.0</td>\n",
       "    </tr>\n",
       "    <tr>\n",
       "      <td>21</td>\n",
       "      <td>2016-04-01</td>\n",
       "      <td>2075.54</td>\n",
       "      <td>239.26</td>\n",
       "      <td>1.81</td>\n",
       "      <td>235.18</td>\n",
       "      <td>9.7</td>\n",
       "      <td>3340</td>\n",
       "      <td>1715</td>\n",
       "      <td>7416</td>\n",
       "      <td>10.9</td>\n",
       "      <td>48.8</td>\n",
       "      <td>0.37</td>\n",
       "      <td>6219.3</td>\n",
       "      <td>62.8</td>\n",
       "      <td>183.2</td>\n",
       "      <td>16583.1</td>\n",
       "    </tr>\n",
       "    <tr>\n",
       "      <td>22</td>\n",
       "      <td>2016-07-01</td>\n",
       "      <td>2148.90</td>\n",
       "      <td>240.65</td>\n",
       "      <td>1.50</td>\n",
       "      <td>241.59</td>\n",
       "      <td>9.7</td>\n",
       "      <td>3175</td>\n",
       "      <td>1950</td>\n",
       "      <td>7442</td>\n",
       "      <td>10.9</td>\n",
       "      <td>48.4</td>\n",
       "      <td>0.39</td>\n",
       "      <td>6307.5</td>\n",
       "      <td>62.8</td>\n",
       "      <td>187.7</td>\n",
       "      <td>16727.0</td>\n",
       "    </tr>\n",
       "  </tbody>\n",
       "</table>\n",
       "</div>"
      ],
      "text/plain": [
       "          date    sp500  consumer_price_index  ...  labor_force_pr  producer_price_index  gross_domestic_product\n",
       "18  2015-07-01  2094.14                238.65  ...            62.6                 193.9                 16454.9\n",
       "19  2015-10-01  2024.81                237.84  ...            62.5                 187.5                 16490.7\n",
       "20  2016-01-01  1918.60                236.92  ...            62.7                 182.6                 16525.0\n",
       "21  2016-04-01  2075.54                239.26  ...            62.8                 183.2                 16583.1\n",
       "22  2016-07-01  2148.90                240.65  ...            62.8                 187.7                 16727.0\n",
       "\n",
       "[5 rows x 16 columns]"
      ]
     },
     "execution_count": 62,
     "metadata": {},
     "output_type": "execute_result"
    }
   ],
   "source": [
    "df.tail() # tail represent last 5 rows"
   ]
  },
  {
   "cell_type": "code",
   "execution_count": 64,
   "metadata": {},
   "outputs": [
    {
     "name": "stdout",
     "output_type": "stream",
     "text": [
      "<class 'pandas.core.frame.DataFrame'>\n",
      "Int64Index: 23 entries, 0 to 22\n",
      "Data columns (total 16 columns):\n",
      "date                              23 non-null object\n",
      "sp500                             23 non-null float64\n",
      "consumer_price_index              23 non-null float64\n",
      "long_interest_rate                23 non-null float64\n",
      "housing_price_index               23 non-null float64\n",
      "total_unemployed                  23 non-null float64\n",
      "more_than_15_weeks                23 non-null int64\n",
      "not_in_labor_searched_for_work    23 non-null int64\n",
      "multi_jobs                        23 non-null int64\n",
      "leavers                           23 non-null float64\n",
      "losers                            23 non-null float64\n",
      "federal_funds_rate                23 non-null float64\n",
      "total_expenditures                23 non-null float64\n",
      "labor_force_pr                    23 non-null float64\n",
      "producer_price_index              23 non-null float64\n",
      "gross_domestic_product            23 non-null float64\n",
      "dtypes: float64(12), int64(3), object(1)\n",
      "memory usage: 3.1+ KB\n"
     ]
    }
   ],
   "source": [
    "df.info() # info function helps in determining how many rows, colum, type of data, colum name, if we have any null data"
   ]
  },
  {
   "cell_type": "code",
   "execution_count": 68,
   "metadata": {},
   "outputs": [
    {
     "data": {
      "text/plain": [
       "Index(['date', 'sp500', 'consumer_price_index', 'long_interest_rate',\n",
       "       'housing_price_index', 'total_unemployed', 'more_than_15_weeks',\n",
       "       'not_in_labor_searched_for_work', 'multi_jobs', 'leavers', 'losers',\n",
       "       'federal_funds_rate', 'total_expenditures', 'labor_force_pr',\n",
       "       'producer_price_index', 'gross_domestic_product'],\n",
       "      dtype='object')"
      ]
     },
     "execution_count": 68,
     "metadata": {},
     "output_type": "execute_result"
    }
   ],
   "source": [
    "df.columns # Columns describe colum names"
   ]
  },
  {
   "cell_type": "markdown",
   "metadata": {},
   "source": [
    "# OLS (Ordinary Least Squares) or Linear Regression has some assumption\n",
    "### OLS - This method corresponds to to minimizing the sum of squared differences between actual and observed values \n",
    "\n",
    "## OLS and R Squared are not same, R Square is matrix - Error or Cost line\n",
    "## OLS is just trend line\n",
    "\n",
    "## Assumptions\n",
    "\n",
    "1. Linearity - Assumption that there is a linear relationship between target and features\n",
    "\n",
    "2. No Multicollinearity - Predictor and Target are not collinear i.e thye are not highly collerated\n",
    "\n",
    "3. Zero Condition mean - Average distance between observations and trend line or best fit line is zero\n",
    "\n",
    "4. Homoskedascity - No pattern in residuals or errors or error is constant\n",
    "\n",
    "5. No Autocorrelation - A Variable is not correleated to itself when shifted in time/space\n",
    "\n",
    "## All above assumptions must be satisfied before we use linear regression (simple or multiple) otherwise the predictions/conclusions will not be correct\n"
   ]
  },
  {
   "cell_type": "code",
   "execution_count": 70,
   "metadata": {},
   "outputs": [],
   "source": [
    "housing_model = ols('housing_price_index ~ total_unemployed',data=df).fit() \n",
    "# we have taken single variable house_price_index........tilde (~) means approximately equal with another variable\n",
    "# total unemployed\n",
    "\n",
    "# Single linear regression"
   ]
  },
  {
   "cell_type": "code",
   "execution_count": 72,
   "metadata": {},
   "outputs": [
    {
     "data": {
      "text/html": [
       "<table class=\"simpletable\">\n",
       "<caption>OLS Regression Results</caption>\n",
       "<tr>\n",
       "  <th>Dep. Variable:</th>    <td>housing_price_index</td> <th>  R-squared:         </th> <td>   0.952</td>\n",
       "</tr>\n",
       "<tr>\n",
       "  <th>Model:</th>                    <td>OLS</td>         <th>  Adj. R-squared:    </th> <td>   0.949</td>\n",
       "</tr>\n",
       "<tr>\n",
       "  <th>Method:</th>              <td>Least Squares</td>    <th>  F-statistic:       </th> <td>   413.2</td>\n",
       "</tr>\n",
       "<tr>\n",
       "  <th>Date:</th>              <td>Tue, 16 Mar 2021</td>   <th>  Prob (F-statistic):</th> <td>2.71e-15</td>\n",
       "</tr>\n",
       "<tr>\n",
       "  <th>Time:</th>                  <td>15:32:53</td>       <th>  Log-Likelihood:    </th> <td> -65.450</td>\n",
       "</tr>\n",
       "<tr>\n",
       "  <th>No. Observations:</th>       <td>    23</td>        <th>  AIC:               </th> <td>   134.9</td>\n",
       "</tr>\n",
       "<tr>\n",
       "  <th>Df Residuals:</th>           <td>    21</td>        <th>  BIC:               </th> <td>   137.2</td>\n",
       "</tr>\n",
       "<tr>\n",
       "  <th>Df Model:</th>               <td>     1</td>        <th>                     </th>     <td> </td>   \n",
       "</tr>\n",
       "<tr>\n",
       "  <th>Covariance Type:</th>       <td>nonrobust</td>      <th>                     </th>     <td> </td>   \n",
       "</tr>\n",
       "</table>\n",
       "<table class=\"simpletable\">\n",
       "<tr>\n",
       "          <td></td>            <th>coef</th>     <th>std err</th>      <th>t</th>      <th>P>|t|</th>  <th>[0.025</th>    <th>0.975]</th>  \n",
       "</tr>\n",
       "<tr>\n",
       "  <th>Intercept</th>        <td>  313.3128</td> <td>    5.408</td> <td>   57.938</td> <td> 0.000</td> <td>  302.067</td> <td>  324.559</td>\n",
       "</tr>\n",
       "<tr>\n",
       "  <th>total_unemployed</th> <td>   -8.3324</td> <td>    0.410</td> <td>  -20.327</td> <td> 0.000</td> <td>   -9.185</td> <td>   -7.480</td>\n",
       "</tr>\n",
       "</table>\n",
       "<table class=\"simpletable\">\n",
       "<tr>\n",
       "  <th>Omnibus:</th>       <td> 0.492</td> <th>  Durbin-Watson:     </th> <td>   1.126</td>\n",
       "</tr>\n",
       "<tr>\n",
       "  <th>Prob(Omnibus):</th> <td> 0.782</td> <th>  Jarque-Bera (JB):  </th> <td>   0.552</td>\n",
       "</tr>\n",
       "<tr>\n",
       "  <th>Skew:</th>          <td> 0.294</td> <th>  Prob(JB):          </th> <td>   0.759</td>\n",
       "</tr>\n",
       "<tr>\n",
       "  <th>Kurtosis:</th>      <td> 2.521</td> <th>  Cond. No.          </th> <td>    78.9</td>\n",
       "</tr>\n",
       "</table><br/><br/>Warnings:<br/>[1] Standard Errors assume that the covariance matrix of the errors is correctly specified."
      ],
      "text/plain": [
       "<class 'statsmodels.iolib.summary.Summary'>\n",
       "\"\"\"\n",
       "                             OLS Regression Results                            \n",
       "===============================================================================\n",
       "Dep. Variable:     housing_price_index   R-squared:                       0.952\n",
       "Model:                             OLS   Adj. R-squared:                  0.949\n",
       "Method:                  Least Squares   F-statistic:                     413.2\n",
       "Date:                 Tue, 16 Mar 2021   Prob (F-statistic):           2.71e-15\n",
       "Time:                         15:32:53   Log-Likelihood:                -65.450\n",
       "No. Observations:                   23   AIC:                             134.9\n",
       "Df Residuals:                       21   BIC:                             137.2\n",
       "Df Model:                            1                                         \n",
       "Covariance Type:             nonrobust                                         \n",
       "====================================================================================\n",
       "                       coef    std err          t      P>|t|      [0.025      0.975]\n",
       "------------------------------------------------------------------------------------\n",
       "Intercept          313.3128      5.408     57.938      0.000     302.067     324.559\n",
       "total_unemployed    -8.3324      0.410    -20.327      0.000      -9.185      -7.480\n",
       "==============================================================================\n",
       "Omnibus:                        0.492   Durbin-Watson:                   1.126\n",
       "Prob(Omnibus):                  0.782   Jarque-Bera (JB):                0.552\n",
       "Skew:                           0.294   Prob(JB):                        0.759\n",
       "Kurtosis:                       2.521   Cond. No.                         78.9\n",
       "==============================================================================\n",
       "\n",
       "Warnings:\n",
       "[1] Standard Errors assume that the covariance matrix of the errors is correctly specified.\n",
       "\"\"\""
      ]
     },
     "execution_count": 72,
     "metadata": {},
     "output_type": "execute_result"
    }
   ],
   "source": [
    "housing_model.summary() # it provide html table OLS is a representation if given independent variable is linear to \n",
    "# dependent variable or its good fit model or not"
   ]
  },
  {
   "cell_type": "markdown",
   "metadata": {},
   "source": [
    "### R Squared - Cost or Lost function or can be called as Error (Difference between actual data and best fit line)\n",
    "1. Higher R Squared value, then model is good. Here 95.2% is the performance or total employment impacts my target variable\n",
    "2. **Adjusted R Squared** - is always less then R Square and it naggates all the features which have less or no impact on target variables - here being single variable adjusted R Squared is 94.9% which is high and good performance, it means very less cost function or error\n",
    "3. **F Statistics (ANOVA Test)** - Assessing SIGNIFICANCE of the overall regression model. Lower value is better\n",
    "4. **Regression Coefficient (Coef)** - Representing the change in dependent variable with respect to 1 unit change in independent variable\n",
    "5. **T Test** - Hypothesis is it looks at the relationship between target variables and every feature variables independently not in totality of all features. Each feature at a time. \n",
    "    **Null Hypotheis** is Given feature is equal to zero (no significant relationship)\n",
    "    **Alternate hypothesis** is given feature is not equal to zero (significant relationship)\n",
    "    if P value <0.05 then we accept alternate hypothsis\n",
    "    if p Value >0.05 then we accept null hypothesis\n",
    "6. **Standard Error (std)** : \"standard error of the mean\" refers to the standard deviation of the distribution of sample means taken from a population.\n",
    "7. **Confidence Interval** - Represent 95% confident that our total_unemployment coefficient will fall between the given range\n",
    "8. **P-Value** : Also represent SIGNIFICANCE of model"
   ]
  },
  {
   "cell_type": "code",
   "execution_count": 86,
   "metadata": {},
   "outputs": [
    {
     "data": {
      "text/plain": [
       "<Figure size 864x576 with 0 Axes>"
      ]
     },
     "metadata": {},
     "output_type": "display_data"
    }
   ],
   "source": [
    "fig = plt.figure(figsize=(12,8))"
   ]
  },
  {
   "cell_type": "code",
   "execution_count": 87,
   "metadata": {},
   "outputs": [],
   "source": [
    "fig = sm.graphics.plot_regress_exog(housing_model,'total_unemployed',fig=fig) # Regression Plot"
   ]
  },
  {
   "cell_type": "code",
   "execution_count": 88,
   "metadata": {},
   "outputs": [
    {
     "data": {
      "image/png": "[encoded data removed]",
      "text/plain": [
       "<Figure size 864x576 with 4 Axes>"
      ]
     },
     "execution_count": 88,
     "metadata": {},
     "output_type": "execute_result"
    }
   ],
   "source": [
    "fig"
   ]
  },
  {
   "cell_type": "markdown",
   "metadata": {},
   "source": [
    "1. **Y & fitted Vs X** : plots dependent variable against predicted value in a confidence intervals. HPI is negatively correleated with Unemployment\n",
    "2. **Residual Vs total_unemployed** : If you dont find any residual or error pattern or cost function pattern then the assumption of homoskedasticall holds\n",
    "3. **Partial Regression plot** : it reflects the relationship between x and y and mainly shows the impact of other variables, as we are using single varaibale here.....its not reflecting\n",
    "4. **CCPR Plot** : Its a extension of Partial Regression plot, it shows where our trend line will lie after other independent variables are added"
   ]
  },
  {
   "cell_type": "markdown",
   "metadata": {},
   "source": [
    "## Linear regression with multiple features/variables....other features are\n",
    "1. Consumer price index\n",
    "2. Long interest rate\n",
    "3. Total unemployed\n",
    "4. federal fund rate\n",
    "5. Gross domestic product\n",
    "6. Total Expenditure\n",
    "7. Producer price index"
   ]
  },
  {
   "cell_type": "code",
   "execution_count": 79,
   "metadata": {},
   "outputs": [
    {
     "data": {
      "text/plain": [
       "Index(['date', 'sp500', 'consumer_price_index', 'long_interest_rate',\n",
       "       'housing_price_index', 'total_unemployed', 'more_than_15_weeks',\n",
       "       'not_in_labor_searched_for_work', 'multi_jobs', 'leavers', 'losers',\n",
       "       'federal_funds_rate', 'total_expenditures', 'labor_force_pr',\n",
       "       'producer_price_index', 'gross_domestic_product'],\n",
       "      dtype='object')"
      ]
     },
     "execution_count": 79,
     "metadata": {},
     "output_type": "execute_result"
    }
   ],
   "source": [
    "df.columns"
   ]
  },
  {
   "cell_type": "code",
   "execution_count": 80,
   "metadata": {},
   "outputs": [],
   "source": [
    "housing_model_1 = ols('housing_price_index ~ total_unemployed+consumer_price_index+long_interest_rate+total_unemployed+federal_funds_rate+total_expenditures+producer_price_index+gross_domestic_product',data=df).fit()"
   ]
  },
  {
   "cell_type": "code",
   "execution_count": 82,
   "metadata": {},
   "outputs": [
    {
     "data": {
      "text/html": [
       "<table class=\"simpletable\">\n",
       "<caption>OLS Regression Results</caption>\n",
       "<tr>\n",
       "  <th>Dep. Variable:</th>    <td>housing_price_index</td> <th>  R-squared:         </th> <td>   0.984</td>\n",
       "</tr>\n",
       "<tr>\n",
       "  <th>Model:</th>                    <td>OLS</td>         <th>  Adj. R-squared:    </th> <td>   0.977</td>\n",
       "</tr>\n",
       "<tr>\n",
       "  <th>Method:</th>              <td>Least Squares</td>    <th>  F-statistic:       </th> <td>   133.7</td>\n",
       "</tr>\n",
       "<tr>\n",
       "  <th>Date:</th>              <td>Tue, 16 Mar 2021</td>   <th>  Prob (F-statistic):</th> <td>2.29e-12</td>\n",
       "</tr>\n",
       "<tr>\n",
       "  <th>Time:</th>                  <td>23:03:36</td>       <th>  Log-Likelihood:    </th> <td> -52.564</td>\n",
       "</tr>\n",
       "<tr>\n",
       "  <th>No. Observations:</th>       <td>    23</td>        <th>  AIC:               </th> <td>   121.1</td>\n",
       "</tr>\n",
       "<tr>\n",
       "  <th>Df Residuals:</th>           <td>    15</td>        <th>  BIC:               </th> <td>   130.2</td>\n",
       "</tr>\n",
       "<tr>\n",
       "  <th>Df Model:</th>               <td>     7</td>        <th>                     </th>     <td> </td>   \n",
       "</tr>\n",
       "<tr>\n",
       "  <th>Covariance Type:</th>       <td>nonrobust</td>      <th>                     </th>     <td> </td>   \n",
       "</tr>\n",
       "</table>\n",
       "<table class=\"simpletable\">\n",
       "<tr>\n",
       "             <td></td>               <th>coef</th>     <th>std err</th>      <th>t</th>      <th>P>|t|</th>  <th>[0.025</th>    <th>0.975]</th>  \n",
       "</tr>\n",
       "<tr>\n",
       "  <th>Intercept</th>              <td> -570.9009</td> <td>  208.160</td> <td>   -2.743</td> <td> 0.015</td> <td>-1014.583</td> <td> -127.219</td>\n",
       "</tr>\n",
       "<tr>\n",
       "  <th>total_unemployed</th>       <td>    2.9807</td> <td>    2.808</td> <td>    1.061</td> <td> 0.305</td> <td>   -3.005</td> <td>    8.967</td>\n",
       "</tr>\n",
       "<tr>\n",
       "  <th>consumer_price_index</th>   <td>    2.5335</td> <td>    0.963</td> <td>    2.632</td> <td> 0.019</td> <td>    0.482</td> <td>    4.585</td>\n",
       "</tr>\n",
       "<tr>\n",
       "  <th>long_interest_rate</th>     <td>    6.3198</td> <td>    1.649</td> <td>    3.833</td> <td> 0.002</td> <td>    2.805</td> <td>    9.834</td>\n",
       "</tr>\n",
       "<tr>\n",
       "  <th>federal_funds_rate</th>     <td>   12.2189</td> <td>   14.778</td> <td>    0.827</td> <td> 0.421</td> <td>  -19.280</td> <td>   43.718</td>\n",
       "</tr>\n",
       "<tr>\n",
       "  <th>total_expenditures</th>     <td>   -0.0006</td> <td>    0.011</td> <td>   -0.062</td> <td> 0.952</td> <td>   -0.023</td> <td>    0.022</td>\n",
       "</tr>\n",
       "<tr>\n",
       "  <th>producer_price_index</th>   <td>   -0.7521</td> <td>    0.388</td> <td>   -1.938</td> <td> 0.072</td> <td>   -1.579</td> <td>    0.075</td>\n",
       "</tr>\n",
       "<tr>\n",
       "  <th>gross_domestic_product</th> <td>    0.0180</td> <td>    0.010</td> <td>    1.721</td> <td> 0.106</td> <td>   -0.004</td> <td>    0.040</td>\n",
       "</tr>\n",
       "</table>\n",
       "<table class=\"simpletable\">\n",
       "<tr>\n",
       "  <th>Omnibus:</th>       <td> 0.545</td> <th>  Durbin-Watson:     </th> <td>   1.983</td>\n",
       "</tr>\n",
       "<tr>\n",
       "  <th>Prob(Omnibus):</th> <td> 0.761</td> <th>  Jarque-Bera (JB):  </th> <td>   0.634</td>\n",
       "</tr>\n",
       "<tr>\n",
       "  <th>Skew:</th>          <td>-0.190</td> <th>  Prob(JB):          </th> <td>   0.728</td>\n",
       "</tr>\n",
       "<tr>\n",
       "  <th>Kurtosis:</th>      <td> 2.280</td> <th>  Cond. No.          </th> <td>5.72e+06</td>\n",
       "</tr>\n",
       "</table><br/><br/>Warnings:<br/>[1] Standard Errors assume that the covariance matrix of the errors is correctly specified.<br/>[2] The condition number is large, 5.72e+06. This might indicate that there are<br/>strong multicollinearity or other numerical problems."
      ],
      "text/plain": [
       "<class 'statsmodels.iolib.summary.Summary'>\n",
       "\"\"\"\n",
       "                             OLS Regression Results                            \n",
       "===============================================================================\n",
       "Dep. Variable:     housing_price_index   R-squared:                       0.984\n",
       "Model:                             OLS   Adj. R-squared:                  0.977\n",
       "Method:                  Least Squares   F-statistic:                     133.7\n",
       "Date:                 Tue, 16 Mar 2021   Prob (F-statistic):           2.29e-12\n",
       "Time:                         23:03:36   Log-Likelihood:                -52.564\n",
       "No. Observations:                   23   AIC:                             121.1\n",
       "Df Residuals:                       15   BIC:                             130.2\n",
       "Df Model:                            7                                         \n",
       "Covariance Type:             nonrobust                                         \n",
       "==========================================================================================\n",
       "                             coef    std err          t      P>|t|      [0.025      0.975]\n",
       "------------------------------------------------------------------------------------------\n",
       "Intercept               -570.9009    208.160     -2.743      0.015   -1014.583    -127.219\n",
       "total_unemployed           2.9807      2.808      1.061      0.305      -3.005       8.967\n",
       "consumer_price_index       2.5335      0.963      2.632      0.019       0.482       4.585\n",
       "long_interest_rate         6.3198      1.649      3.833      0.002       2.805       9.834\n",
       "federal_funds_rate        12.2189     14.778      0.827      0.421     -19.280      43.718\n",
       "total_expenditures        -0.0006      0.011     -0.062      0.952      -0.023       0.022\n",
       "producer_price_index      -0.7521      0.388     -1.938      0.072      -1.579       0.075\n",
       "gross_domestic_product     0.0180      0.010      1.721      0.106      -0.004       0.040\n",
       "==============================================================================\n",
       "Omnibus:                        0.545   Durbin-Watson:                   1.983\n",
       "Prob(Omnibus):                  0.761   Jarque-Bera (JB):                0.634\n",
       "Skew:                          -0.190   Prob(JB):                        0.728\n",
       "Kurtosis:                       2.280   Cond. No.                     5.72e+06\n",
       "==============================================================================\n",
       "\n",
       "Warnings:\n",
       "[1] Standard Errors assume that the covariance matrix of the errors is correctly specified.\n",
       "[2] The condition number is large, 5.72e+06. This might indicate that there are\n",
       "strong multicollinearity or other numerical problems.\n",
       "\"\"\""
      ]
     },
     "execution_count": 82,
     "metadata": {},
     "output_type": "execute_result"
    }
   ],
   "source": [
    "housing_model_1.summary()"
   ]
  },
  {
   "cell_type": "markdown",
   "metadata": {},
   "source": [
    "# Summary"
   ]
  },
  {
   "cell_type": "markdown",
   "metadata": {},
   "source": [
    "1. **Aduster R Squared** is @ 97.7% performance is highly effective, 97% of the datas are explained....high performing model\n",
    "2. **FStatistic** @ 133.7 which is low, reflects performance of the model is effective\n",
    "3. **Features which impacts Y (output)** pvalue<0.05 means that features is significant in impacting dependable or output Y\n",
    "    1. Total employment with pvalue 0.305 which is GREATER then 0.05 hence this feature is NOT significant\n",
    "    2. Consumer price index with pvalue 0.019 which is LESS then 0.05 hence this feature is Significant\n",
    "    3. Long interest rate with pvalue 0.002 which is LESS then 0.05 hence this feature is significant\n",
    "    4. Federal fund rate with pvalue 0.42 which is GREATER than 0.05 hence this feature is NOT significant\n",
    "    5. Total Expenditure with pvalue 0.952 which is GREATER than 0.05 hence this feature is NOT Significant\n",
    "    6. Producer price index with pvalue 0.072 which is GREATER than 0.05 hence this feature is NOT Signifiant (as 0.072 is very close to 0.05 hence we can consider as one of significant feature which impacts outcome (Y)\n",
    "    7. Gross Domestic Product with pvalue 0.106 which is GREATER than 0.05 hence this feature is NOT significant"
   ]
  },
  {
   "cell_type": "code",
   "execution_count": 91,
   "metadata": {},
   "outputs": [
    {
     "data": {
      "image/png": "[encoded data removed]",
      "text/plain": [
       "<Figure size 864x576 with 8 Axes>"
      ]
     },
     "metadata": {},
     "output_type": "display_data"
    }
   ],
   "source": [
    "fig = plt.figure(figsize=(12,8))\n",
    "fig = sm.graphics.plot_partregress_grid(housing_model_1,fig=fig)"
   ]
  },
  {
   "cell_type": "markdown",
   "metadata": {},
   "source": [
    "# Good Job"
   ]
  },
  {
   "cell_type": "code",
   "execution_count": null,
   "metadata": {},
   "outputs": [],
   "source": []
  }
 ],
 "metadata": {
  "kernelspec": {
   "display_name": "Python 3",
   "language": "python",
   "name": "python3"
  },
  "language_info": {
   "codemirror_mode": {
    "name": "ipython",
    "version": 3
   },
   "file_extension": ".py",
   "mimetype": "text/x-python",
   "name": "python",
   "nbconvert_exporter": "python",
   "pygments_lexer": "ipython3",
   "version": "3.7.4"
  }
 },
 "nbformat": 4,
 "nbformat_minor": 2
}
